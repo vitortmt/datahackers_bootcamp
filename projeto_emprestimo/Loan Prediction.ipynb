{
 "cells": [
  {
   "cell_type": "code",
   "execution_count": 1,
   "metadata": {},
   "outputs": [
    {
     "name": "stderr",
     "output_type": "stream",
     "text": [
      "C:\\Users\\vitor.costa\\AppData\\Local\\Continuum\\anaconda3\\lib\\site-packages\\sklearn\\ensemble\\weight_boosting.py:29: DeprecationWarning: numpy.core.umath_tests is an internal NumPy module and should not be imported. It will be removed in a future NumPy release.\n",
      "  from numpy.core.umath_tests import inner1d\n"
     ]
    }
   ],
   "source": [
    "import pandas as pd\n",
    "import matplotlib.pyplot as plt\n",
    "import numpy as np\n",
    "import seaborn as sns \n",
    "import pickle\n",
    "\n",
    "from sklearn.model_selection import train_test_split\n",
    "from sklearn.linear_model import LogisticRegression\n",
    "from sklearn.ensemble import RandomForestClassifier\n",
    "from sklearn.tree import DecisionTreeClassifier\n",
    "\n",
    "plt.style.use('ggplot')\n",
    "\n",
    "#Boa prática recomenda colocar os imports e from em ordem alfabética"
   ]
  },
  {
   "cell_type": "code",
   "execution_count": 2,
   "metadata": {},
   "outputs": [
    {
     "data": {
      "text/html": [
       "<div>\n",
       "<style scoped>\n",
       "    .dataframe tbody tr th:only-of-type {\n",
       "        vertical-align: middle;\n",
       "    }\n",
       "\n",
       "    .dataframe tbody tr th {\n",
       "        vertical-align: top;\n",
       "    }\n",
       "\n",
       "    .dataframe thead th {\n",
       "        text-align: right;\n",
       "    }\n",
       "</style>\n",
       "<table border=\"1\" class=\"dataframe\">\n",
       "  <thead>\n",
       "    <tr style=\"text-align: right;\">\n",
       "      <th></th>\n",
       "      <th>Loan_ID</th>\n",
       "      <th>Gender</th>\n",
       "      <th>Married</th>\n",
       "      <th>Dependents</th>\n",
       "      <th>Education</th>\n",
       "      <th>Self_Employed</th>\n",
       "      <th>ApplicantIncome</th>\n",
       "      <th>CoapplicantIncome</th>\n",
       "      <th>LoanAmount</th>\n",
       "      <th>Loan_Amount_Term</th>\n",
       "      <th>Credit_History</th>\n",
       "      <th>Property_Area</th>\n",
       "      <th>Loan_Status</th>\n",
       "    </tr>\n",
       "  </thead>\n",
       "  <tbody>\n",
       "    <tr>\n",
       "      <th>0</th>\n",
       "      <td>LP001002</td>\n",
       "      <td>1.0</td>\n",
       "      <td>No</td>\n",
       "      <td>0.0</td>\n",
       "      <td>1</td>\n",
       "      <td>0.0</td>\n",
       "      <td>5849</td>\n",
       "      <td>0.0</td>\n",
       "      <td>NaN</td>\n",
       "      <td>360.0</td>\n",
       "      <td>1.0</td>\n",
       "      <td>Urban</td>\n",
       "      <td>Y</td>\n",
       "    </tr>\n",
       "    <tr>\n",
       "      <th>1</th>\n",
       "      <td>LP001003</td>\n",
       "      <td>1.0</td>\n",
       "      <td>Yes</td>\n",
       "      <td>1.0</td>\n",
       "      <td>1</td>\n",
       "      <td>0.0</td>\n",
       "      <td>4583</td>\n",
       "      <td>1508.0</td>\n",
       "      <td>128.0</td>\n",
       "      <td>360.0</td>\n",
       "      <td>1.0</td>\n",
       "      <td>Rural</td>\n",
       "      <td>N</td>\n",
       "    </tr>\n",
       "    <tr>\n",
       "      <th>2</th>\n",
       "      <td>LP001005</td>\n",
       "      <td>1.0</td>\n",
       "      <td>Yes</td>\n",
       "      <td>0.0</td>\n",
       "      <td>1</td>\n",
       "      <td>1.0</td>\n",
       "      <td>3000</td>\n",
       "      <td>0.0</td>\n",
       "      <td>66.0</td>\n",
       "      <td>360.0</td>\n",
       "      <td>1.0</td>\n",
       "      <td>Urban</td>\n",
       "      <td>Y</td>\n",
       "    </tr>\n",
       "    <tr>\n",
       "      <th>3</th>\n",
       "      <td>LP001006</td>\n",
       "      <td>1.0</td>\n",
       "      <td>Yes</td>\n",
       "      <td>0.0</td>\n",
       "      <td>0</td>\n",
       "      <td>0.0</td>\n",
       "      <td>2583</td>\n",
       "      <td>2358.0</td>\n",
       "      <td>120.0</td>\n",
       "      <td>360.0</td>\n",
       "      <td>1.0</td>\n",
       "      <td>Urban</td>\n",
       "      <td>Y</td>\n",
       "    </tr>\n",
       "    <tr>\n",
       "      <th>4</th>\n",
       "      <td>LP001008</td>\n",
       "      <td>1.0</td>\n",
       "      <td>No</td>\n",
       "      <td>0.0</td>\n",
       "      <td>1</td>\n",
       "      <td>0.0</td>\n",
       "      <td>6000</td>\n",
       "      <td>0.0</td>\n",
       "      <td>141.0</td>\n",
       "      <td>360.0</td>\n",
       "      <td>1.0</td>\n",
       "      <td>Urban</td>\n",
       "      <td>Y</td>\n",
       "    </tr>\n",
       "  </tbody>\n",
       "</table>\n",
       "</div>"
      ],
      "text/plain": [
       "    Loan_ID  Gender Married  Dependents  Education  Self_Employed  \\\n",
       "0  LP001002     1.0      No         0.0          1            0.0   \n",
       "1  LP001003     1.0     Yes         1.0          1            0.0   \n",
       "2  LP001005     1.0     Yes         0.0          1            1.0   \n",
       "3  LP001006     1.0     Yes         0.0          0            0.0   \n",
       "4  LP001008     1.0      No         0.0          1            0.0   \n",
       "\n",
       "   ApplicantIncome  CoapplicantIncome  LoanAmount  Loan_Amount_Term  \\\n",
       "0             5849                0.0         NaN             360.0   \n",
       "1             4583             1508.0       128.0             360.0   \n",
       "2             3000                0.0        66.0             360.0   \n",
       "3             2583             2358.0       120.0             360.0   \n",
       "4             6000                0.0       141.0             360.0   \n",
       "\n",
       "   Credit_History Property_Area Loan_Status  \n",
       "0             1.0         Urban           Y  \n",
       "1             1.0         Rural           N  \n",
       "2             1.0         Urban           Y  \n",
       "3             1.0         Urban           Y  \n",
       "4             1.0         Urban           Y  "
      ]
     },
     "execution_count": 2,
     "metadata": {},
     "output_type": "execute_result"
    }
   ],
   "source": [
    "df = pd.read_csv('train.csv')\n",
    "df.head()"
   ]
  },
  {
   "cell_type": "code",
   "execution_count": 3,
   "metadata": {},
   "outputs": [
    {
     "data": {
      "text/plain": [
       "Loan_ID               object\n",
       "Gender               float64\n",
       "Married               object\n",
       "Dependents           float64\n",
       "Education              int64\n",
       "Self_Employed        float64\n",
       "ApplicantIncome        int64\n",
       "CoapplicantIncome    float64\n",
       "LoanAmount           float64\n",
       "Loan_Amount_Term     float64\n",
       "Credit_History       float64\n",
       "Property_Area         object\n",
       "Loan_Status           object\n",
       "dtype: object"
      ]
     },
     "execution_count": 3,
     "metadata": {},
     "output_type": "execute_result"
    }
   ],
   "source": [
    "df.dtypes"
   ]
  },
  {
   "cell_type": "code",
   "execution_count": 4,
   "metadata": {
    "scrolled": true
   },
   "outputs": [
    {
     "data": {
      "text/html": [
       "<div>\n",
       "<style scoped>\n",
       "    .dataframe tbody tr th:only-of-type {\n",
       "        vertical-align: middle;\n",
       "    }\n",
       "\n",
       "    .dataframe tbody tr th {\n",
       "        vertical-align: top;\n",
       "    }\n",
       "\n",
       "    .dataframe thead th {\n",
       "        text-align: right;\n",
       "    }\n",
       "</style>\n",
       "<table border=\"1\" class=\"dataframe\">\n",
       "  <thead>\n",
       "    <tr style=\"text-align: right;\">\n",
       "      <th></th>\n",
       "      <th>Gender</th>\n",
       "      <th>Dependents</th>\n",
       "      <th>Education</th>\n",
       "      <th>Self_Employed</th>\n",
       "      <th>ApplicantIncome</th>\n",
       "      <th>CoapplicantIncome</th>\n",
       "      <th>LoanAmount</th>\n",
       "      <th>Loan_Amount_Term</th>\n",
       "      <th>Credit_History</th>\n",
       "    </tr>\n",
       "  </thead>\n",
       "  <tbody>\n",
       "    <tr>\n",
       "      <th>count</th>\n",
       "      <td>614.000000</td>\n",
       "      <td>614.000000</td>\n",
       "      <td>614.000000</td>\n",
       "      <td>614.000000</td>\n",
       "      <td>614.000000</td>\n",
       "      <td>614.000000</td>\n",
       "      <td>592.000000</td>\n",
       "      <td>614.000000</td>\n",
       "      <td>564.000000</td>\n",
       "    </tr>\n",
       "    <tr>\n",
       "      <th>mean</th>\n",
       "      <td>0.817590</td>\n",
       "      <td>0.744300</td>\n",
       "      <td>0.781759</td>\n",
       "      <td>0.133550</td>\n",
       "      <td>5403.459283</td>\n",
       "      <td>1621.245798</td>\n",
       "      <td>146.412162</td>\n",
       "      <td>342.410423</td>\n",
       "      <td>0.842199</td>\n",
       "    </tr>\n",
       "    <tr>\n",
       "      <th>std</th>\n",
       "      <td>0.386497</td>\n",
       "      <td>1.009623</td>\n",
       "      <td>0.413389</td>\n",
       "      <td>0.340446</td>\n",
       "      <td>6109.041673</td>\n",
       "      <td>2926.248369</td>\n",
       "      <td>85.587325</td>\n",
       "      <td>64.428629</td>\n",
       "      <td>0.364878</td>\n",
       "    </tr>\n",
       "    <tr>\n",
       "      <th>min</th>\n",
       "      <td>0.000000</td>\n",
       "      <td>0.000000</td>\n",
       "      <td>0.000000</td>\n",
       "      <td>0.000000</td>\n",
       "      <td>150.000000</td>\n",
       "      <td>0.000000</td>\n",
       "      <td>9.000000</td>\n",
       "      <td>12.000000</td>\n",
       "      <td>0.000000</td>\n",
       "    </tr>\n",
       "    <tr>\n",
       "      <th>25%</th>\n",
       "      <td>1.000000</td>\n",
       "      <td>0.000000</td>\n",
       "      <td>1.000000</td>\n",
       "      <td>0.000000</td>\n",
       "      <td>2877.500000</td>\n",
       "      <td>0.000000</td>\n",
       "      <td>100.000000</td>\n",
       "      <td>360.000000</td>\n",
       "      <td>1.000000</td>\n",
       "    </tr>\n",
       "    <tr>\n",
       "      <th>50%</th>\n",
       "      <td>1.000000</td>\n",
       "      <td>0.000000</td>\n",
       "      <td>1.000000</td>\n",
       "      <td>0.000000</td>\n",
       "      <td>3812.500000</td>\n",
       "      <td>1188.500000</td>\n",
       "      <td>128.000000</td>\n",
       "      <td>360.000000</td>\n",
       "      <td>1.000000</td>\n",
       "    </tr>\n",
       "    <tr>\n",
       "      <th>75%</th>\n",
       "      <td>1.000000</td>\n",
       "      <td>1.000000</td>\n",
       "      <td>1.000000</td>\n",
       "      <td>0.000000</td>\n",
       "      <td>5795.000000</td>\n",
       "      <td>2297.250000</td>\n",
       "      <td>168.000000</td>\n",
       "      <td>360.000000</td>\n",
       "      <td>1.000000</td>\n",
       "    </tr>\n",
       "    <tr>\n",
       "      <th>max</th>\n",
       "      <td>1.000000</td>\n",
       "      <td>3.000000</td>\n",
       "      <td>1.000000</td>\n",
       "      <td>1.000000</td>\n",
       "      <td>81000.000000</td>\n",
       "      <td>41667.000000</td>\n",
       "      <td>700.000000</td>\n",
       "      <td>480.000000</td>\n",
       "      <td>1.000000</td>\n",
       "    </tr>\n",
       "  </tbody>\n",
       "</table>\n",
       "</div>"
      ],
      "text/plain": [
       "           Gender  Dependents   Education  Self_Employed  ApplicantIncome  \\\n",
       "count  614.000000  614.000000  614.000000     614.000000       614.000000   \n",
       "mean     0.817590    0.744300    0.781759       0.133550      5403.459283   \n",
       "std      0.386497    1.009623    0.413389       0.340446      6109.041673   \n",
       "min      0.000000    0.000000    0.000000       0.000000       150.000000   \n",
       "25%      1.000000    0.000000    1.000000       0.000000      2877.500000   \n",
       "50%      1.000000    0.000000    1.000000       0.000000      3812.500000   \n",
       "75%      1.000000    1.000000    1.000000       0.000000      5795.000000   \n",
       "max      1.000000    3.000000    1.000000       1.000000     81000.000000   \n",
       "\n",
       "       CoapplicantIncome  LoanAmount  Loan_Amount_Term  Credit_History  \n",
       "count         614.000000  592.000000        614.000000      564.000000  \n",
       "mean         1621.245798  146.412162        342.410423        0.842199  \n",
       "std          2926.248369   85.587325         64.428629        0.364878  \n",
       "min             0.000000    9.000000         12.000000        0.000000  \n",
       "25%             0.000000  100.000000        360.000000        1.000000  \n",
       "50%          1188.500000  128.000000        360.000000        1.000000  \n",
       "75%          2297.250000  168.000000        360.000000        1.000000  \n",
       "max         41667.000000  700.000000        480.000000        1.000000  "
      ]
     },
     "execution_count": 4,
     "metadata": {},
     "output_type": "execute_result"
    }
   ],
   "source": [
    "df.describe()"
   ]
  },
  {
   "cell_type": "code",
   "execution_count": 5,
   "metadata": {},
   "outputs": [
    {
     "data": {
      "text/plain": [
       "(614, 13)"
      ]
     },
     "execution_count": 5,
     "metadata": {},
     "output_type": "execute_result"
    }
   ],
   "source": [
    "df.shape"
   ]
  },
  {
   "cell_type": "code",
   "execution_count": 6,
   "metadata": {},
   "outputs": [
    {
     "data": {
      "text/plain": [
       "Y    422\n",
       "N    192\n",
       "Name: Loan_Status, dtype: int64"
      ]
     },
     "execution_count": 6,
     "metadata": {},
     "output_type": "execute_result"
    }
   ],
   "source": [
    "df['Loan_Status'].value_counts()"
   ]
  },
  {
   "cell_type": "code",
   "execution_count": 7,
   "metadata": {},
   "outputs": [
    {
     "data": {
      "image/png": "[encoded data removed]",
      "text/plain": [
       "<Figure size 432x288 with 2 Axes>"
      ]
     },
     "metadata": {},
     "output_type": "display_data"
    }
   ],
   "source": [
    "df[['Loan_Status', 'ApplicantIncome']].hist(bins=50, by = 'Loan_Status')\n",
    "plt.show()"
   ]
  },
  {
   "cell_type": "code",
   "execution_count": 8,
   "metadata": {},
   "outputs": [
    {
     "data": {
      "text/plain": [
       "0       0.0\n",
       "1    1508.0\n",
       "2       0.0\n",
       "3    2358.0\n",
       "4       0.0\n",
       "Name: CoapplicantIncome, dtype: float64"
      ]
     },
     "execution_count": 8,
     "metadata": {},
     "output_type": "execute_result"
    }
   ],
   "source": [
    "coapplicants = df['CoapplicantIncome']\n",
    "coapplicants.head()"
   ]
  },
  {
   "cell_type": "code",
   "execution_count": 9,
   "metadata": {},
   "outputs": [],
   "source": [
    "coapplicants = coapplicants.apply(lambda x: 'N' if x == 0 else 'Y')\n",
    "## Função Lambda funciona como:\n",
    "# def nome_de_funcao(x)\n",
    "# if x==0:\n",
    "#        return 'N'\n",
    "#    else:\n",
    "#        return'Y'"
   ]
  },
  {
   "cell_type": "code",
   "execution_count": 10,
   "metadata": {},
   "outputs": [
    {
     "data": {
      "image/png": "[encoded data removed]",
      "text/plain": [
       "<Figure size 432x288 with 1 Axes>"
      ]
     },
     "metadata": {},
     "output_type": "display_data"
    }
   ],
   "source": [
    "coapplicants.value_counts().plot(kind='pie')\n",
    "plt.show()"
   ]
  },
  {
   "cell_type": "code",
   "execution_count": 11,
   "metadata": {},
   "outputs": [],
   "source": [
    "##df.drop('Loan_ID')\n",
    "#Procura por padrão a linha trocar para Coluna. \n",
    "df.drop('Loan_ID', axis=1, inplace=True)"
   ]
  },
  {
   "cell_type": "code",
   "execution_count": 12,
   "metadata": {},
   "outputs": [
    {
     "data": {
      "text/html": [
       "<div>\n",
       "<style scoped>\n",
       "    .dataframe tbody tr th:only-of-type {\n",
       "        vertical-align: middle;\n",
       "    }\n",
       "\n",
       "    .dataframe tbody tr th {\n",
       "        vertical-align: top;\n",
       "    }\n",
       "\n",
       "    .dataframe thead th {\n",
       "        text-align: right;\n",
       "    }\n",
       "</style>\n",
       "<table border=\"1\" class=\"dataframe\">\n",
       "  <thead>\n",
       "    <tr style=\"text-align: right;\">\n",
       "      <th></th>\n",
       "      <th>Gender</th>\n",
       "      <th>Married</th>\n",
       "      <th>Dependents</th>\n",
       "      <th>Education</th>\n",
       "      <th>Self_Employed</th>\n",
       "      <th>ApplicantIncome</th>\n",
       "      <th>CoapplicantIncome</th>\n",
       "      <th>LoanAmount</th>\n",
       "      <th>Loan_Amount_Term</th>\n",
       "      <th>Credit_History</th>\n",
       "      <th>Property_Area</th>\n",
       "      <th>Loan_Status</th>\n",
       "    </tr>\n",
       "  </thead>\n",
       "  <tbody>\n",
       "    <tr>\n",
       "      <th>0</th>\n",
       "      <td>1.0</td>\n",
       "      <td>No</td>\n",
       "      <td>0.0</td>\n",
       "      <td>1</td>\n",
       "      <td>0.0</td>\n",
       "      <td>5849</td>\n",
       "      <td>0.0</td>\n",
       "      <td>NaN</td>\n",
       "      <td>360.0</td>\n",
       "      <td>1.0</td>\n",
       "      <td>Urban</td>\n",
       "      <td>Y</td>\n",
       "    </tr>\n",
       "    <tr>\n",
       "      <th>1</th>\n",
       "      <td>1.0</td>\n",
       "      <td>Yes</td>\n",
       "      <td>1.0</td>\n",
       "      <td>1</td>\n",
       "      <td>0.0</td>\n",
       "      <td>4583</td>\n",
       "      <td>1508.0</td>\n",
       "      <td>128.0</td>\n",
       "      <td>360.0</td>\n",
       "      <td>1.0</td>\n",
       "      <td>Rural</td>\n",
       "      <td>N</td>\n",
       "    </tr>\n",
       "    <tr>\n",
       "      <th>2</th>\n",
       "      <td>1.0</td>\n",
       "      <td>Yes</td>\n",
       "      <td>0.0</td>\n",
       "      <td>1</td>\n",
       "      <td>1.0</td>\n",
       "      <td>3000</td>\n",
       "      <td>0.0</td>\n",
       "      <td>66.0</td>\n",
       "      <td>360.0</td>\n",
       "      <td>1.0</td>\n",
       "      <td>Urban</td>\n",
       "      <td>Y</td>\n",
       "    </tr>\n",
       "    <tr>\n",
       "      <th>3</th>\n",
       "      <td>1.0</td>\n",
       "      <td>Yes</td>\n",
       "      <td>0.0</td>\n",
       "      <td>0</td>\n",
       "      <td>0.0</td>\n",
       "      <td>2583</td>\n",
       "      <td>2358.0</td>\n",
       "      <td>120.0</td>\n",
       "      <td>360.0</td>\n",
       "      <td>1.0</td>\n",
       "      <td>Urban</td>\n",
       "      <td>Y</td>\n",
       "    </tr>\n",
       "    <tr>\n",
       "      <th>4</th>\n",
       "      <td>1.0</td>\n",
       "      <td>No</td>\n",
       "      <td>0.0</td>\n",
       "      <td>1</td>\n",
       "      <td>0.0</td>\n",
       "      <td>6000</td>\n",
       "      <td>0.0</td>\n",
       "      <td>141.0</td>\n",
       "      <td>360.0</td>\n",
       "      <td>1.0</td>\n",
       "      <td>Urban</td>\n",
       "      <td>Y</td>\n",
       "    </tr>\n",
       "  </tbody>\n",
       "</table>\n",
       "</div>"
      ],
      "text/plain": [
       "   Gender Married  Dependents  Education  Self_Employed  ApplicantIncome  \\\n",
       "0     1.0      No         0.0          1            0.0             5849   \n",
       "1     1.0     Yes         1.0          1            0.0             4583   \n",
       "2     1.0     Yes         0.0          1            1.0             3000   \n",
       "3     1.0     Yes         0.0          0            0.0             2583   \n",
       "4     1.0      No         0.0          1            0.0             6000   \n",
       "\n",
       "   CoapplicantIncome  LoanAmount  Loan_Amount_Term  Credit_History  \\\n",
       "0                0.0         NaN             360.0             1.0   \n",
       "1             1508.0       128.0             360.0             1.0   \n",
       "2                0.0        66.0             360.0             1.0   \n",
       "3             2358.0       120.0             360.0             1.0   \n",
       "4                0.0       141.0             360.0             1.0   \n",
       "\n",
       "  Property_Area Loan_Status  \n",
       "0         Urban           Y  \n",
       "1         Rural           N  \n",
       "2         Urban           Y  \n",
       "3         Urban           Y  \n",
       "4         Urban           Y  "
      ]
     },
     "execution_count": 12,
     "metadata": {},
     "output_type": "execute_result"
    }
   ],
   "source": [
    "df.head()"
   ]
  },
  {
   "cell_type": "code",
   "execution_count": 13,
   "metadata": {},
   "outputs": [],
   "source": [
    "df.columns = ['is_Male', 'is_Married', 'Dependents', 'is_Gratuated','is_Self_Employed', \n",
    "             'ApplicantIncome', 'CoapplicantIncome', 'LoanAmount', 'Loan_Amount_Term', 'has_Credit_History',\n",
    "              'Property_Area', 'Loan_Status']\n",
    "\n",
    "#Renomeando colunas"
   ]
  },
  {
   "cell_type": "code",
   "execution_count": 14,
   "metadata": {},
   "outputs": [],
   "source": [
    "mapper1 = {'Yes':1, 'No':0}\n",
    "df['is_Married'] = df['is_Married'].map(mapper1)"
   ]
  },
  {
   "cell_type": "code",
   "execution_count": 15,
   "metadata": {},
   "outputs": [],
   "source": [
    "mapper2 = {'Y':1, 'N':0}\n",
    "df['Loan_Status'] = df['Loan_Status'].map(mapper2)"
   ]
  },
  {
   "cell_type": "code",
   "execution_count": 16,
   "metadata": {},
   "outputs": [
    {
     "data": {
      "text/html": [
       "<div>\n",
       "<style scoped>\n",
       "    .dataframe tbody tr th:only-of-type {\n",
       "        vertical-align: middle;\n",
       "    }\n",
       "\n",
       "    .dataframe tbody tr th {\n",
       "        vertical-align: top;\n",
       "    }\n",
       "\n",
       "    .dataframe thead th {\n",
       "        text-align: right;\n",
       "    }\n",
       "</style>\n",
       "<table border=\"1\" class=\"dataframe\">\n",
       "  <thead>\n",
       "    <tr style=\"text-align: right;\">\n",
       "      <th></th>\n",
       "      <th>is_Male</th>\n",
       "      <th>is_Married</th>\n",
       "      <th>Dependents</th>\n",
       "      <th>is_Gratuated</th>\n",
       "      <th>is_Self_Employed</th>\n",
       "      <th>ApplicantIncome</th>\n",
       "      <th>CoapplicantIncome</th>\n",
       "      <th>LoanAmount</th>\n",
       "      <th>Loan_Amount_Term</th>\n",
       "      <th>has_Credit_History</th>\n",
       "      <th>Property_Area</th>\n",
       "      <th>Loan_Status</th>\n",
       "    </tr>\n",
       "  </thead>\n",
       "  <tbody>\n",
       "    <tr>\n",
       "      <th>0</th>\n",
       "      <td>1.0</td>\n",
       "      <td>0.0</td>\n",
       "      <td>0.0</td>\n",
       "      <td>1</td>\n",
       "      <td>0.0</td>\n",
       "      <td>5849</td>\n",
       "      <td>0.0</td>\n",
       "      <td>NaN</td>\n",
       "      <td>360.0</td>\n",
       "      <td>1.0</td>\n",
       "      <td>Urban</td>\n",
       "      <td>1</td>\n",
       "    </tr>\n",
       "    <tr>\n",
       "      <th>1</th>\n",
       "      <td>1.0</td>\n",
       "      <td>1.0</td>\n",
       "      <td>1.0</td>\n",
       "      <td>1</td>\n",
       "      <td>0.0</td>\n",
       "      <td>4583</td>\n",
       "      <td>1508.0</td>\n",
       "      <td>128.0</td>\n",
       "      <td>360.0</td>\n",
       "      <td>1.0</td>\n",
       "      <td>Rural</td>\n",
       "      <td>0</td>\n",
       "    </tr>\n",
       "    <tr>\n",
       "      <th>2</th>\n",
       "      <td>1.0</td>\n",
       "      <td>1.0</td>\n",
       "      <td>0.0</td>\n",
       "      <td>1</td>\n",
       "      <td>1.0</td>\n",
       "      <td>3000</td>\n",
       "      <td>0.0</td>\n",
       "      <td>66.0</td>\n",
       "      <td>360.0</td>\n",
       "      <td>1.0</td>\n",
       "      <td>Urban</td>\n",
       "      <td>1</td>\n",
       "    </tr>\n",
       "    <tr>\n",
       "      <th>3</th>\n",
       "      <td>1.0</td>\n",
       "      <td>1.0</td>\n",
       "      <td>0.0</td>\n",
       "      <td>0</td>\n",
       "      <td>0.0</td>\n",
       "      <td>2583</td>\n",
       "      <td>2358.0</td>\n",
       "      <td>120.0</td>\n",
       "      <td>360.0</td>\n",
       "      <td>1.0</td>\n",
       "      <td>Urban</td>\n",
       "      <td>1</td>\n",
       "    </tr>\n",
       "    <tr>\n",
       "      <th>4</th>\n",
       "      <td>1.0</td>\n",
       "      <td>0.0</td>\n",
       "      <td>0.0</td>\n",
       "      <td>1</td>\n",
       "      <td>0.0</td>\n",
       "      <td>6000</td>\n",
       "      <td>0.0</td>\n",
       "      <td>141.0</td>\n",
       "      <td>360.0</td>\n",
       "      <td>1.0</td>\n",
       "      <td>Urban</td>\n",
       "      <td>1</td>\n",
       "    </tr>\n",
       "  </tbody>\n",
       "</table>\n",
       "</div>"
      ],
      "text/plain": [
       "   is_Male  is_Married  Dependents  is_Gratuated  is_Self_Employed  \\\n",
       "0      1.0         0.0         0.0             1               0.0   \n",
       "1      1.0         1.0         1.0             1               0.0   \n",
       "2      1.0         1.0         0.0             1               1.0   \n",
       "3      1.0         1.0         0.0             0               0.0   \n",
       "4      1.0         0.0         0.0             1               0.0   \n",
       "\n",
       "   ApplicantIncome  CoapplicantIncome  LoanAmount  Loan_Amount_Term  \\\n",
       "0             5849                0.0         NaN             360.0   \n",
       "1             4583             1508.0       128.0             360.0   \n",
       "2             3000                0.0        66.0             360.0   \n",
       "3             2583             2358.0       120.0             360.0   \n",
       "4             6000                0.0       141.0             360.0   \n",
       "\n",
       "   has_Credit_History Property_Area  Loan_Status  \n",
       "0                 1.0         Urban            1  \n",
       "1                 1.0         Rural            0  \n",
       "2                 1.0         Urban            1  \n",
       "3                 1.0         Urban            1  \n",
       "4                 1.0         Urban            1  "
      ]
     },
     "execution_count": 16,
     "metadata": {},
     "output_type": "execute_result"
    }
   ],
   "source": [
    "df.head()"
   ]
  },
  {
   "cell_type": "code",
   "execution_count": 17,
   "metadata": {},
   "outputs": [
    {
     "data": {
      "text/plain": [
       "has_Credit_History    50\n",
       "LoanAmount            22\n",
       "is_Married             3\n",
       "Loan_Status            0\n",
       "Property_Area          0\n",
       "Loan_Amount_Term       0\n",
       "CoapplicantIncome      0\n",
       "ApplicantIncome        0\n",
       "is_Self_Employed       0\n",
       "is_Gratuated           0\n",
       "Dependents             0\n",
       "is_Male                0\n",
       "dtype: int64"
      ]
     },
     "execution_count": 17,
     "metadata": {},
     "output_type": "execute_result"
    }
   ],
   "source": [
    "#Contar dados nulos por coluna\n",
    "df.isnull().sum().sort_values(ascending=False)"
   ]
  },
  {
   "cell_type": "code",
   "execution_count": 18,
   "metadata": {},
   "outputs": [],
   "source": [
    "df.dropna(subset=['is_Married'], inplace = True)"
   ]
  },
  {
   "cell_type": "code",
   "execution_count": 19,
   "metadata": {},
   "outputs": [
    {
     "data": {
      "text/plain": [
       "has_Credit_History    50\n",
       "LoanAmount            21\n",
       "Loan_Status            0\n",
       "Property_Area          0\n",
       "Loan_Amount_Term       0\n",
       "CoapplicantIncome      0\n",
       "ApplicantIncome        0\n",
       "is_Self_Employed       0\n",
       "is_Gratuated           0\n",
       "Dependents             0\n",
       "is_Married             0\n",
       "is_Male                0\n",
       "dtype: int64"
      ]
     },
     "execution_count": 19,
     "metadata": {},
     "output_type": "execute_result"
    }
   ],
   "source": [
    "df.isnull().sum().sort_values(ascending=False)"
   ]
  },
  {
   "cell_type": "code",
   "execution_count": 20,
   "metadata": {},
   "outputs": [],
   "source": [
    "df['LoanAmount'].fillna(df['LoanAmount'].mean(), inplace=True)\n",
    "#Colocando valor da média no s valor de amount que são nulos. "
   ]
  },
  {
   "cell_type": "code",
   "execution_count": 21,
   "metadata": {},
   "outputs": [
    {
     "data": {
      "text/plain": [
       "1.0    472\n",
       "0.0     89\n",
       "Name: has_Credit_History, dtype: int64"
      ]
     },
     "execution_count": 21,
     "metadata": {},
     "output_type": "execute_result"
    }
   ],
   "source": [
    "df['has_Credit_History'].value_counts()\n",
    "#Contar os valores da coluna separados por tipo"
   ]
  },
  {
   "cell_type": "code",
   "execution_count": 22,
   "metadata": {},
   "outputs": [],
   "source": [
    "df['has_Credit_History'].fillna(1, inplace=True)\n",
    "#colocando 1 no lugar do NaN. "
   ]
  },
  {
   "cell_type": "code",
   "execution_count": 23,
   "metadata": {},
   "outputs": [
    {
     "data": {
      "text/plain": [
       "Loan_Status           0\n",
       "Property_Area         0\n",
       "has_Credit_History    0\n",
       "Loan_Amount_Term      0\n",
       "LoanAmount            0\n",
       "CoapplicantIncome     0\n",
       "ApplicantIncome       0\n",
       "is_Self_Employed      0\n",
       "is_Gratuated          0\n",
       "Dependents            0\n",
       "is_Married            0\n",
       "is_Male               0\n",
       "dtype: int64"
      ]
     },
     "execution_count": 23,
     "metadata": {},
     "output_type": "execute_result"
    }
   ],
   "source": [
    "#Contar dados nulos por coluna (Confirmando que agora está OK)\n",
    "df.isnull().sum().sort_values(ascending=False)"
   ]
  },
  {
   "cell_type": "code",
   "execution_count": 24,
   "metadata": {},
   "outputs": [
    {
     "data": {
      "text/plain": [
       "array(['Urban', 'Rural', 'Semiurban'], dtype=object)"
      ]
     },
     "execution_count": 24,
     "metadata": {},
     "output_type": "execute_result"
    }
   ],
   "source": [
    "df['Property_Area'].unique()\n",
    "#Explicitando os valores que existem na coluna"
   ]
  },
  {
   "cell_type": "code",
   "execution_count": 25,
   "metadata": {},
   "outputs": [],
   "source": [
    "df = pd.get_dummies(df, columns=['Property_Area'])\n",
    "#Criando variáveis Dummies para a coluna 'Property_Area' e deleta a mesma, deixando apenas as dummies  "
   ]
  },
  {
   "cell_type": "code",
   "execution_count": 26,
   "metadata": {},
   "outputs": [
    {
     "data": {
      "text/html": [
       "<div>\n",
       "<style scoped>\n",
       "    .dataframe tbody tr th:only-of-type {\n",
       "        vertical-align: middle;\n",
       "    }\n",
       "\n",
       "    .dataframe tbody tr th {\n",
       "        vertical-align: top;\n",
       "    }\n",
       "\n",
       "    .dataframe thead th {\n",
       "        text-align: right;\n",
       "    }\n",
       "</style>\n",
       "<table border=\"1\" class=\"dataframe\">\n",
       "  <thead>\n",
       "    <tr style=\"text-align: right;\">\n",
       "      <th></th>\n",
       "      <th>is_Male</th>\n",
       "      <th>is_Married</th>\n",
       "      <th>Dependents</th>\n",
       "      <th>is_Gratuated</th>\n",
       "      <th>is_Self_Employed</th>\n",
       "      <th>ApplicantIncome</th>\n",
       "      <th>CoapplicantIncome</th>\n",
       "      <th>LoanAmount</th>\n",
       "      <th>Loan_Amount_Term</th>\n",
       "      <th>has_Credit_History</th>\n",
       "      <th>Loan_Status</th>\n",
       "      <th>Property_Area_Rural</th>\n",
       "      <th>Property_Area_Semiurban</th>\n",
       "      <th>Property_Area_Urban</th>\n",
       "    </tr>\n",
       "  </thead>\n",
       "  <tbody>\n",
       "    <tr>\n",
       "      <th>is_Male</th>\n",
       "      <td>1.000000</td>\n",
       "      <td>0.367926</td>\n",
       "      <td>0.172422</td>\n",
       "      <td>-0.044560</td>\n",
       "      <td>-0.001284</td>\n",
       "      <td>0.061997</td>\n",
       "      <td>0.082028</td>\n",
       "      <td>0.108135</td>\n",
       "      <td>-0.082177</td>\n",
       "      <td>0.010004</td>\n",
       "      <td>0.019381</td>\n",
       "      <td>0.079452</td>\n",
       "      <td>-0.105347</td>\n",
       "      <td>0.031761</td>\n",
       "    </tr>\n",
       "    <tr>\n",
       "      <th>is_Married</th>\n",
       "      <td>0.367926</td>\n",
       "      <td>1.000000</td>\n",
       "      <td>0.337748</td>\n",
       "      <td>-0.014223</td>\n",
       "      <td>0.005904</td>\n",
       "      <td>0.051332</td>\n",
       "      <td>0.077770</td>\n",
       "      <td>0.146981</td>\n",
       "      <td>-0.102624</td>\n",
       "      <td>0.009481</td>\n",
       "      <td>0.089280</td>\n",
       "      <td>-0.004520</td>\n",
       "      <td>0.003744</td>\n",
       "      <td>0.000514</td>\n",
       "    </tr>\n",
       "    <tr>\n",
       "      <th>Dependents</th>\n",
       "      <td>0.172422</td>\n",
       "      <td>0.337748</td>\n",
       "      <td>1.000000</td>\n",
       "      <td>-0.053947</td>\n",
       "      <td>0.055471</td>\n",
       "      <td>0.118901</td>\n",
       "      <td>0.028788</td>\n",
       "      <td>0.163692</td>\n",
       "      <td>-0.103619</td>\n",
       "      <td>-0.038736</td>\n",
       "      <td>0.012593</td>\n",
       "      <td>-0.003147</td>\n",
       "      <td>0.004086</td>\n",
       "      <td>-0.001169</td>\n",
       "    </tr>\n",
       "    <tr>\n",
       "      <th>is_Gratuated</th>\n",
       "      <td>-0.044560</td>\n",
       "      <td>-0.014223</td>\n",
       "      <td>-0.053947</td>\n",
       "      <td>1.000000</td>\n",
       "      <td>0.011414</td>\n",
       "      <td>0.140590</td>\n",
       "      <td>0.063585</td>\n",
       "      <td>0.166864</td>\n",
       "      <td>0.073701</td>\n",
       "      <td>0.072670</td>\n",
       "      <td>0.084286</td>\n",
       "      <td>-0.075984</td>\n",
       "      <td>0.038022</td>\n",
       "      <td>0.034363</td>\n",
       "    </tr>\n",
       "    <tr>\n",
       "      <th>is_Self_Employed</th>\n",
       "      <td>-0.001284</td>\n",
       "      <td>0.005904</td>\n",
       "      <td>0.055471</td>\n",
       "      <td>0.011414</td>\n",
       "      <td>1.000000</td>\n",
       "      <td>0.127550</td>\n",
       "      <td>-0.017019</td>\n",
       "      <td>0.115500</td>\n",
       "      <td>-0.033421</td>\n",
       "      <td>-0.000757</td>\n",
       "      <td>-0.002404</td>\n",
       "      <td>0.020858</td>\n",
       "      <td>0.009885</td>\n",
       "      <td>-0.030407</td>\n",
       "    </tr>\n",
       "    <tr>\n",
       "      <th>ApplicantIncome</th>\n",
       "      <td>0.061997</td>\n",
       "      <td>0.051332</td>\n",
       "      <td>0.118901</td>\n",
       "      <td>0.140590</td>\n",
       "      <td>0.127550</td>\n",
       "      <td>1.000000</td>\n",
       "      <td>-0.116266</td>\n",
       "      <td>0.566037</td>\n",
       "      <td>-0.044361</td>\n",
       "      <td>-0.018900</td>\n",
       "      <td>-0.005154</td>\n",
       "      <td>0.016269</td>\n",
       "      <td>-0.016002</td>\n",
       "      <td>0.000756</td>\n",
       "    </tr>\n",
       "    <tr>\n",
       "      <th>CoapplicantIncome</th>\n",
       "      <td>0.082028</td>\n",
       "      <td>0.077770</td>\n",
       "      <td>0.028788</td>\n",
       "      <td>0.063585</td>\n",
       "      <td>-0.017019</td>\n",
       "      <td>-0.116266</td>\n",
       "      <td>1.000000</td>\n",
       "      <td>0.188151</td>\n",
       "      <td>-0.059135</td>\n",
       "      <td>0.012093</td>\n",
       "      <td>-0.057733</td>\n",
       "      <td>0.003860</td>\n",
       "      <td>-0.025199</td>\n",
       "      <td>0.022269</td>\n",
       "    </tr>\n",
       "    <tr>\n",
       "      <th>LoanAmount</th>\n",
       "      <td>0.108135</td>\n",
       "      <td>0.146981</td>\n",
       "      <td>0.163692</td>\n",
       "      <td>0.166864</td>\n",
       "      <td>0.115500</td>\n",
       "      <td>0.566037</td>\n",
       "      <td>0.188151</td>\n",
       "      <td>1.000000</td>\n",
       "      <td>0.036135</td>\n",
       "      <td>-0.001631</td>\n",
       "      <td>-0.036782</td>\n",
       "      <td>0.043538</td>\n",
       "      <td>-0.008376</td>\n",
       "      <td>-0.033530</td>\n",
       "    </tr>\n",
       "    <tr>\n",
       "      <th>Loan_Amount_Term</th>\n",
       "      <td>-0.082177</td>\n",
       "      <td>-0.102624</td>\n",
       "      <td>-0.103619</td>\n",
       "      <td>0.073701</td>\n",
       "      <td>-0.033421</td>\n",
       "      <td>-0.044361</td>\n",
       "      <td>-0.059135</td>\n",
       "      <td>0.036135</td>\n",
       "      <td>1.000000</td>\n",
       "      <td>-0.005291</td>\n",
       "      <td>-0.023619</td>\n",
       "      <td>0.035425</td>\n",
       "      <td>0.058878</td>\n",
       "      <td>-0.095081</td>\n",
       "    </tr>\n",
       "    <tr>\n",
       "      <th>has_Credit_History</th>\n",
       "      <td>0.010004</td>\n",
       "      <td>0.009481</td>\n",
       "      <td>-0.038736</td>\n",
       "      <td>0.072670</td>\n",
       "      <td>-0.000757</td>\n",
       "      <td>-0.018900</td>\n",
       "      <td>0.012093</td>\n",
       "      <td>-0.001631</td>\n",
       "      <td>-0.005291</td>\n",
       "      <td>1.000000</td>\n",
       "      <td>0.540021</td>\n",
       "      <td>-0.019637</td>\n",
       "      <td>0.034905</td>\n",
       "      <td>-0.017002</td>\n",
       "    </tr>\n",
       "    <tr>\n",
       "      <th>Loan_Status</th>\n",
       "      <td>0.019381</td>\n",
       "      <td>0.089280</td>\n",
       "      <td>0.012593</td>\n",
       "      <td>0.084286</td>\n",
       "      <td>-0.002404</td>\n",
       "      <td>-0.005154</td>\n",
       "      <td>-0.057733</td>\n",
       "      <td>-0.036782</td>\n",
       "      <td>-0.023619</td>\n",
       "      <td>0.540021</td>\n",
       "      <td>1.000000</td>\n",
       "      <td>-0.098780</td>\n",
       "      <td>0.135159</td>\n",
       "      <td>-0.043808</td>\n",
       "    </tr>\n",
       "    <tr>\n",
       "      <th>Property_Area_Rural</th>\n",
       "      <td>0.079452</td>\n",
       "      <td>-0.004520</td>\n",
       "      <td>-0.003147</td>\n",
       "      <td>-0.075984</td>\n",
       "      <td>0.020858</td>\n",
       "      <td>0.016269</td>\n",
       "      <td>0.003860</td>\n",
       "      <td>0.043538</td>\n",
       "      <td>0.035425</td>\n",
       "      <td>-0.019637</td>\n",
       "      <td>-0.098780</td>\n",
       "      <td>1.000000</td>\n",
       "      <td>-0.501879</td>\n",
       "      <td>-0.450703</td>\n",
       "    </tr>\n",
       "    <tr>\n",
       "      <th>Property_Area_Semiurban</th>\n",
       "      <td>-0.105347</td>\n",
       "      <td>0.003744</td>\n",
       "      <td>0.004086</td>\n",
       "      <td>0.038022</td>\n",
       "      <td>0.009885</td>\n",
       "      <td>-0.016002</td>\n",
       "      <td>-0.025199</td>\n",
       "      <td>-0.008376</td>\n",
       "      <td>0.058878</td>\n",
       "      <td>0.034905</td>\n",
       "      <td>0.135159</td>\n",
       "      <td>-0.501879</td>\n",
       "      <td>1.000000</td>\n",
       "      <td>-0.545909</td>\n",
       "    </tr>\n",
       "    <tr>\n",
       "      <th>Property_Area_Urban</th>\n",
       "      <td>0.031761</td>\n",
       "      <td>0.000514</td>\n",
       "      <td>-0.001169</td>\n",
       "      <td>0.034363</td>\n",
       "      <td>-0.030407</td>\n",
       "      <td>0.000756</td>\n",
       "      <td>0.022269</td>\n",
       "      <td>-0.033530</td>\n",
       "      <td>-0.095081</td>\n",
       "      <td>-0.017002</td>\n",
       "      <td>-0.043808</td>\n",
       "      <td>-0.450703</td>\n",
       "      <td>-0.545909</td>\n",
       "      <td>1.000000</td>\n",
       "    </tr>\n",
       "  </tbody>\n",
       "</table>\n",
       "</div>"
      ],
      "text/plain": [
       "                          is_Male  is_Married  Dependents  is_Gratuated  \\\n",
       "is_Male                  1.000000    0.367926    0.172422     -0.044560   \n",
       "is_Married               0.367926    1.000000    0.337748     -0.014223   \n",
       "Dependents               0.172422    0.337748    1.000000     -0.053947   \n",
       "is_Gratuated            -0.044560   -0.014223   -0.053947      1.000000   \n",
       "is_Self_Employed        -0.001284    0.005904    0.055471      0.011414   \n",
       "ApplicantIncome          0.061997    0.051332    0.118901      0.140590   \n",
       "CoapplicantIncome        0.082028    0.077770    0.028788      0.063585   \n",
       "LoanAmount               0.108135    0.146981    0.163692      0.166864   \n",
       "Loan_Amount_Term        -0.082177   -0.102624   -0.103619      0.073701   \n",
       "has_Credit_History       0.010004    0.009481   -0.038736      0.072670   \n",
       "Loan_Status              0.019381    0.089280    0.012593      0.084286   \n",
       "Property_Area_Rural      0.079452   -0.004520   -0.003147     -0.075984   \n",
       "Property_Area_Semiurban -0.105347    0.003744    0.004086      0.038022   \n",
       "Property_Area_Urban      0.031761    0.000514   -0.001169      0.034363   \n",
       "\n",
       "                         is_Self_Employed  ApplicantIncome  CoapplicantIncome  \\\n",
       "is_Male                         -0.001284         0.061997           0.082028   \n",
       "is_Married                       0.005904         0.051332           0.077770   \n",
       "Dependents                       0.055471         0.118901           0.028788   \n",
       "is_Gratuated                     0.011414         0.140590           0.063585   \n",
       "is_Self_Employed                 1.000000         0.127550          -0.017019   \n",
       "ApplicantIncome                  0.127550         1.000000          -0.116266   \n",
       "CoapplicantIncome               -0.017019        -0.116266           1.000000   \n",
       "LoanAmount                       0.115500         0.566037           0.188151   \n",
       "Loan_Amount_Term                -0.033421        -0.044361          -0.059135   \n",
       "has_Credit_History              -0.000757        -0.018900           0.012093   \n",
       "Loan_Status                     -0.002404        -0.005154          -0.057733   \n",
       "Property_Area_Rural              0.020858         0.016269           0.003860   \n",
       "Property_Area_Semiurban          0.009885        -0.016002          -0.025199   \n",
       "Property_Area_Urban             -0.030407         0.000756           0.022269   \n",
       "\n",
       "                         LoanAmount  Loan_Amount_Term  has_Credit_History  \\\n",
       "is_Male                    0.108135         -0.082177            0.010004   \n",
       "is_Married                 0.146981         -0.102624            0.009481   \n",
       "Dependents                 0.163692         -0.103619           -0.038736   \n",
       "is_Gratuated               0.166864          0.073701            0.072670   \n",
       "is_Self_Employed           0.115500         -0.033421           -0.000757   \n",
       "ApplicantIncome            0.566037         -0.044361           -0.018900   \n",
       "CoapplicantIncome          0.188151         -0.059135            0.012093   \n",
       "LoanAmount                 1.000000          0.036135           -0.001631   \n",
       "Loan_Amount_Term           0.036135          1.000000           -0.005291   \n",
       "has_Credit_History        -0.001631         -0.005291            1.000000   \n",
       "Loan_Status               -0.036782         -0.023619            0.540021   \n",
       "Property_Area_Rural        0.043538          0.035425           -0.019637   \n",
       "Property_Area_Semiurban   -0.008376          0.058878            0.034905   \n",
       "Property_Area_Urban       -0.033530         -0.095081           -0.017002   \n",
       "\n",
       "                         Loan_Status  Property_Area_Rural  \\\n",
       "is_Male                     0.019381             0.079452   \n",
       "is_Married                  0.089280            -0.004520   \n",
       "Dependents                  0.012593            -0.003147   \n",
       "is_Gratuated                0.084286            -0.075984   \n",
       "is_Self_Employed           -0.002404             0.020858   \n",
       "ApplicantIncome            -0.005154             0.016269   \n",
       "CoapplicantIncome          -0.057733             0.003860   \n",
       "LoanAmount                 -0.036782             0.043538   \n",
       "Loan_Amount_Term           -0.023619             0.035425   \n",
       "has_Credit_History          0.540021            -0.019637   \n",
       "Loan_Status                 1.000000            -0.098780   \n",
       "Property_Area_Rural        -0.098780             1.000000   \n",
       "Property_Area_Semiurban     0.135159            -0.501879   \n",
       "Property_Area_Urban        -0.043808            -0.450703   \n",
       "\n",
       "                         Property_Area_Semiurban  Property_Area_Urban  \n",
       "is_Male                                -0.105347             0.031761  \n",
       "is_Married                              0.003744             0.000514  \n",
       "Dependents                              0.004086            -0.001169  \n",
       "is_Gratuated                            0.038022             0.034363  \n",
       "is_Self_Employed                        0.009885            -0.030407  \n",
       "ApplicantIncome                        -0.016002             0.000756  \n",
       "CoapplicantIncome                      -0.025199             0.022269  \n",
       "LoanAmount                             -0.008376            -0.033530  \n",
       "Loan_Amount_Term                        0.058878            -0.095081  \n",
       "has_Credit_History                      0.034905            -0.017002  \n",
       "Loan_Status                             0.135159            -0.043808  \n",
       "Property_Area_Rural                    -0.501879            -0.450703  \n",
       "Property_Area_Semiurban                 1.000000            -0.545909  \n",
       "Property_Area_Urban                    -0.545909             1.000000  "
      ]
     },
     "execution_count": 26,
     "metadata": {},
     "output_type": "execute_result"
    }
   ],
   "source": [
    "df.corr()\n",
    "#Tabela de correlações"
   ]
  },
  {
   "cell_type": "code",
   "execution_count": 27,
   "metadata": {},
   "outputs": [],
   "source": [
    "#Criando sistema de cores customizado.\n",
    "from matplotlib.colors import ListedColormap  #Importar biblioteca\n",
    "\n",
    "\n",
    "flatui = ['#FF0001', '#E34646', '#FFFFFF', '#E34646', '#FF0001'] #escolher vetor de cores\n",
    "my_cmap = ListedColormap(sns.color_palette(flatui).as_hex()) #aplicando o vetor à função "
   ]
  },
  {
   "cell_type": "code",
   "execution_count": 28,
   "metadata": {
    "scrolled": true
   },
   "outputs": [
    {
     "data": {
      "image/png": "[encoded data removed]",
      "text/plain": [
       "<Figure size 936x504 with 2 Axes>"
      ]
     },
     "metadata": {},
     "output_type": "display_data"
    }
   ],
   "source": [
    "plt.figure(figsize=(13,7)) #Colocando o tamanho desejado\n",
    "sns.heatmap(df.corr(), annot=True, cmap=my_cmap) #Criando o mapa de calor: \"annot\" para mostrar número; abs=colocar módulo\n",
    "plt.show() #Exibir a tabela"
   ]
  },
  {
   "cell_type": "code",
   "execution_count": 29,
   "metadata": {},
   "outputs": [],
   "source": [
    "df['TotalIncome'] = df['ApplicantIncome']+ df['CoapplicantIncome'] \n",
    "#Unificando as colunas para achar o total de salários (cônjuge e pessoal)"
   ]
  },
  {
   "cell_type": "code",
   "execution_count": 30,
   "metadata": {},
   "outputs": [],
   "source": [
    "#normalizando os dados\n",
    "df['ApplicantIncome'] = np.log(df['ApplicantIncome'])\n",
    "df['TotalIncome'] = np.log(df['TotalIncome'])\n",
    "df.loc[df['CoapplicantIncome'] == 0, 'CoapplicantIncome'] = 1\n",
    "df['CoapplicantIncome'] = np.log(df['CoapplicantIncome'])"
   ]
  },
  {
   "cell_type": "code",
   "execution_count": 31,
   "metadata": {},
   "outputs": [],
   "source": [
    "X = df.drop('Loan_Status', axis=1) #Eliminando a variável resposta do banco de variáveis explicativas \n",
    "\n",
    "y= df['Loan_Status'] #Definindo a variável resposta "
   ]
  },
  {
   "cell_type": "code",
   "execution_count": 32,
   "metadata": {},
   "outputs": [],
   "source": [
    "#Criando e setando o teste: tamando da amostra que será usado no teste\n",
    "#Resultado será retornado em tupla e antes do \"=\" será o nome dessas colunas da tupla\n",
    "X_train, X_test, y_train, y_test = train_test_split(X, y, test_size = 0.33, random_state = 42) "
   ]
  },
  {
   "cell_type": "code",
   "execution_count": 33,
   "metadata": {},
   "outputs": [
    {
     "name": "stdout",
     "output_type": "stream",
     "text": [
      "Score no conjunto de treino:80.44%\n",
      "Score no conjunto de teste:82.18%\n"
     ]
    }
   ],
   "source": [
    "lr = LogisticRegression() #Criando o objeto que tem o estimador de regressão. \n",
    "lr.fit(X_train, y_train) #Retorna parâmetros utilizados no modelo\n",
    "\n",
    "print('Score no conjunto de treino:{0:.2%}'.format(lr.score(X_train, y_train)))\n",
    "#Ver o qual a média de assertividade do modelo em relação ao treino\n",
    "\n",
    "print('Score no conjunto de teste:{0:.2%}'.format(lr.score(X_test, y_test))) \n",
    "#Ver a média de assetividade do modelo em relação ao teste. "
   ]
  },
  {
   "cell_type": "code",
   "execution_count": 34,
   "metadata": {},
   "outputs": [
    {
     "name": "stdout",
     "output_type": "stream",
     "text": [
      "Score no conjunto de treino:82.64%\n",
      "Score no conjunto de teste:83.17%\n"
     ]
    }
   ],
   "source": [
    "dt = DecisionTreeClassifier(max_depth=4) \n",
    "\n",
    "#Criando o modelo do objeto de Decision Tree: Opção de colocar número de decisões que serão analisadas. \n",
    "\n",
    "dt.fit(X_train, y_train)  #Fazer treino do modelo\n",
    "\n",
    "print('Score no conjunto de treino:{0:.2%}'.format(dt.score(X_train, y_train)))\n",
    "#Ver o qual a média de assertividade do modelo em relação ao treino\n",
    "\n",
    "print('Score no conjunto de teste:{0:.2%}'.format(dt.score(X_test, y_test))) \n",
    "#Ver a média de assetividade do modelo em relação ao teste. "
   ]
  },
  {
   "cell_type": "code",
   "execution_count": 35,
   "metadata": {},
   "outputs": [
    {
     "data": {
      "text/plain": [
       "[(0.01066161532525964, 'is_Male'),\n",
       " (0.0, 'is_Married'),\n",
       " (0.0, 'Dependents'),\n",
       " (0.0, 'is_Gratuated'),\n",
       " (0.0, 'is_Self_Employed'),\n",
       " (0.00863590841346034, 'ApplicantIncome'),\n",
       " (0.04342760972747744, 'CoapplicantIncome'),\n",
       " (0.02627059425320548, 'LoanAmount'),\n",
       " (0.0231180994359439, 'Loan_Amount_Term'),\n",
       " (0.7224260802273454, 'has_Credit_History'),\n",
       " (0.0, 'Property_Area_Rural'),\n",
       " (0.05914039870676859, 'Property_Area_Semiurban'),\n",
       " (0.0, 'Property_Area_Urban'),\n",
       " (0.10631969391053918, 'TotalIncome')]"
      ]
     },
     "execution_count": 35,
     "metadata": {},
     "output_type": "execute_result"
    }
   ],
   "source": [
    "importance = list(zip(dt.feature_importances_,X_train.columns)) \n",
    "\n",
    "#Ver quão relevante é cada coluna para o modelo \n",
    "\n",
    "importance"
   ]
  },
  {
   "cell_type": "code",
   "execution_count": 36,
   "metadata": {},
   "outputs": [
    {
     "name": "stdout",
     "output_type": "stream",
     "text": [
      "Score no conjunto de treino:98.78%\n",
      "Score no conjunto de teste:75.25%\n"
     ]
    }
   ],
   "source": [
    "#criando uma árvore de decisão: Colocar o \"setseed\" para 42\n",
    "\n",
    "rf = RandomForestClassifier(random_state=42) \n",
    "rf.fit(X_train, y_train)\n",
    "\n",
    "print('Score no conjunto de treino:{0:.2%}'.format(rf.score(X_train, y_train)))\n",
    "#Ver o qual a média de assertividade do modelo em relação ao treino\n",
    "print('Score no conjunto de teste:{0:.2%}'.format(rf.score(X_test, y_test))) \n",
    "#Ver a média de assetividade do modelo em relação ao teste. "
   ]
  },
  {
   "cell_type": "code",
   "execution_count": 37,
   "metadata": {},
   "outputs": [
    {
     "data": {
      "text/plain": [
       "array([1], dtype=int64)"
      ]
     },
     "execution_count": 37,
     "metadata": {},
     "output_type": "execute_result"
    }
   ],
   "source": [
    "dt.predict([X_test.iloc[0]]) \n",
    "\n",
    "#Usar esse modelo para qualquer data set (X)"
   ]
  },
  {
   "cell_type": "code",
   "execution_count": 38,
   "metadata": {},
   "outputs": [
    {
     "name": "stderr",
     "output_type": "stream",
     "text": [
      "C:\\Users\\vitor.costa\\AppData\\Local\\Continuum\\anaconda3\\lib\\site-packages\\ipykernel_launcher.py:1: SettingWithCopyWarning: \n",
      "A value is trying to be set on a copy of a slice from a DataFrame.\n",
      "Try using .loc[row_indexer,col_indexer] = value instead\n",
      "\n",
      "See the caveats in the documentation: http://pandas.pydata.org/pandas-docs/stable/indexing.html#indexing-view-versus-copy\n",
      "  \"\"\"Entry point for launching an IPython kernel.\n"
     ]
    }
   ],
   "source": [
    "X_test ['Loan_Status'] = dt.predict(X_test) #Cria a 'Loan Status' com resultado usando o modelo. "
   ]
  },
  {
   "cell_type": "code",
   "execution_count": 39,
   "metadata": {},
   "outputs": [],
   "source": [
    "X_test.to_csv('clientes_previstos.csv', index = False) #Exporta csv com nova tabela incluind resultados. "
   ]
  },
  {
   "cell_type": "code",
   "execution_count": 40,
   "metadata": {},
   "outputs": [],
   "source": [
    "#exportar o objeto do modelo e usar o pickle load para importar. \n",
    "pickle.dump(dt, open('modelo.sav', 'wb'))"
   ]
  },
  {
   "cell_type": "code",
   "execution_count": null,
   "metadata": {},
   "outputs": [],
   "source": []
  }
 ],
 "metadata": {
  "kernelspec": {
   "display_name": "Python 3",
   "language": "python",
   "name": "python3"
  },
  "language_info": {
   "codemirror_mode": {
    "name": "ipython",
    "version": 3
   },
   "file_extension": ".py",
   "mimetype": "text/x-python",
   "name": "python",
   "nbconvert_exporter": "python",
   "pygments_lexer": "ipython3",
   "version": "3.6.4"
  }
 },
 "nbformat": 4,
 "nbformat_minor": 2
}
